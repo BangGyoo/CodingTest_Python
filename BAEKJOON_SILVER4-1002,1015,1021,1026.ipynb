{
 "cells": [
  {
   "cell_type": "markdown",
   "metadata": {},
   "source": [
    "# 터렛"
   ]
  },
  {
   "cell_type": "code",
   "execution_count": 18,
   "metadata": {},
   "outputs": [
    {
     "name": "stdout",
     "output_type": "stream",
     "text": [
      "3\n",
      "0 0 13 40 0 37\n",
      "0 0 3 0 7 4\n",
      "1 1 1 1 1 5\n",
      "2\n",
      "1\n",
      "0\n"
     ]
    }
   ],
   "source": [
    "t = int(input())\n",
    "array = []\n",
    "result = [0 for i in range(t)]\n",
    "\n",
    "for i in range(t):\n",
    "    array.append(list(map(int, input().split())))\n",
    "    \n",
    "    r = ((array[i][0] - array[i][3]) ** 2 + (array[i][1] - array[i][4]) ** 2) ** 0.5\n",
    "    rArray = [array[i][2], array[i][5], r]\n",
    "    \n",
    "    rMax = max(rArray)\n",
    "    rArray.remove(rMax)\n",
    "    \n",
    "    if r == 0 and array[i][2] == array[i][5]:\n",
    "        result[i] = -1\n",
    "    elif r == array[i][2] + array[i][5] or rMax == sum(rArray):\n",
    "        result[i] = 1\n",
    "    elif rMax > sum(rArray):\n",
    "        result[i] = 0\n",
    "    else:\n",
    "        result[i] = 2\n",
    "    \n",
    "for i in range(t):\n",
    "    print(result[i])"
   ]
  },
  {
   "cell_type": "markdown",
   "metadata": {},
   "source": [
    "# 수열 정렬"
   ]
  },
  {
   "cell_type": "code",
   "execution_count": 62,
   "metadata": {},
   "outputs": [
    {
     "name": "stdout",
     "output_type": "stream",
     "text": [
      "3\n",
      "1 1 1\n",
      "0 1 2\n"
     ]
    }
   ],
   "source": [
    "n = int(input())\n",
    "array = list(map(int, input().split()))\n",
    "result = [0 for i in range(n)]\n",
    "\n",
    "sortArray = sorted(array)\n",
    "\n",
    "for i in range(len(array)):\n",
    "    for j in range(len(sortArray)):\n",
    "        if array[i] == sortArray[j]:\n",
    "            result[i] = j\n",
    "\n",
    "while True:\n",
    "    for i in range(len(result)):\n",
    "        for j in range(i + 1, len(result)):\n",
    "            if result[i] == result[j]:\n",
    "                result[i] -= 1\n",
    "                \n",
    "    for i in range(len(result)):\n",
    "        for j in range(i + 1, len(result)):\n",
    "            if result[i] == result[j]:\n",
    "                break\n",
    "        if j != len(result) - 1:\n",
    "            break\n",
    "                \n",
    "    if i == len(result) - 1:\n",
    "        break\n",
    "                           \n",
    "print(' '.join([str(i) for i in result]))"
   ]
  },
  {
   "cell_type": "markdown",
   "metadata": {},
   "source": [
    "# 회전하는 큐"
   ]
  },
  {
   "cell_type": "code",
   "execution_count": 39,
   "metadata": {},
   "outputs": [
    {
     "name": "stdout",
     "output_type": "stream",
     "text": [
      "10 10\n",
      "1 6 3 2 7 9 8 4 10 5\n",
      "14\n"
     ]
    }
   ],
   "source": [
    "from collections import deque\n",
    "\n",
    "n, m = map(int, input().split())\n",
    "nlist = deque([i + 1 for i in range(n)])\n",
    "mlist = list(map(int, input().split()))\n",
    "result = 0\n",
    "\n",
    "for i in mlist:\n",
    "    while True:\n",
    "        if nlist.index(i) == 0:\n",
    "            nlist.popleft()\n",
    "            break\n",
    "            \n",
    "        if nlist.index(i) > len(nlist) - nlist.index(i):\n",
    "            nlist.appendleft(nlist[len(nlist) - 1])\n",
    "            nlist.pop()\n",
    "            result += 1\n",
    "        else:\n",
    "            nlist.append(nlist[0])\n",
    "            nlist.popleft()\n",
    "            result += 1\n",
    "\n",
    "print(result)"
   ]
  },
  {
   "cell_type": "markdown",
   "metadata": {},
   "source": [
    "# 보물"
   ]
  },
  {
   "cell_type": "code",
   "execution_count": 14,
   "metadata": {},
   "outputs": [
    {
     "name": "stdout",
     "output_type": "stream",
     "text": [
      "5\n",
      "1 1 1 6 0\n",
      "2 7 8 3 1\n",
      "18\n"
     ]
    }
   ],
   "source": [
    "n = int(input())\n",
    "a = list(map(int, input().split()))\n",
    "b = list(map(int, input().split()))\n",
    "alist = []\n",
    "blist = []\n",
    "sum = 0\n",
    "\n",
    "alist = sorted(a)\n",
    "blist = sorted(b, reverse=True)\n",
    "\n",
    "for i in range(n):\n",
    "    sum += (alist[i] * blist[i])\n",
    "    \n",
    "print(sum)"
   ]
  }
 ],
 "metadata": {
  "kernelspec": {
   "display_name": "Python 3",
   "language": "python",
   "name": "python3"
  },
  "language_info": {
   "codemirror_mode": {
    "name": "ipython",
    "version": 3
   },
   "file_extension": ".py",
   "mimetype": "text/x-python",
   "name": "python",
   "nbconvert_exporter": "python",
   "pygments_lexer": "ipython3",
   "version": "3.8.5"
  }
 },
 "nbformat": 4,
 "nbformat_minor": 4
}
